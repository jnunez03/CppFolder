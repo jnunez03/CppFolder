{
  "nbformat": 4,
  "nbformat_minor": 0,
  "metadata": {
    "colab": {
      "name": "Untitled0.ipynb",
      "provenance": [],
      "include_colab_link": true
    },
    "kernelspec": {
      "name": "python3",
      "display_name": "Python 3"
    }
  },
  "cells": [
    {
      "cell_type": "markdown",
      "metadata": {
        "id": "view-in-github",
        "colab_type": "text"
      },
      "source": [
        "<a href=\"https://colab.research.google.com/github/jnunez03/CppFolder/blob/master/CorevsCK_FreeTrials.ipynb\" target=\"_parent\"><img src=\"https://colab.research.google.com/assets/colab-badge.svg\" alt=\"Open In Colab\"/></a>"
      ]
    },
    {
      "cell_type": "code",
      "metadata": {
        "id": "ACOx56TK4pEX",
        "colab_type": "code",
        "colab": {
          "base_uri": "https://localhost:8080/",
          "height": 442
        },
        "outputId": "e32ac4d5-751e-42a4-db3b-4d5c678ea931"
      },
      "source": [
        "import pandas as pd\n",
        "import pandas_profiling\n",
        "import numpy as np\n",
        "from matplotlib import pyplot as plt\n",
        "import seaborn as sb\n",
        "from pandas import Series, DataFrame\n",
        "from pylab import *\n",
        "import statsmodels.api as sm\n",
        "import matplotlib.style as style\n",
        "from matplotlib.ticker import MaxNLocator\n",
        "from matplotlib.font_manager import FontProperties\n",
        "from scipy import stats\n",
        "from scipy.stats import norm\n",
        "from fbprophet import Prophet\n",
        "import logging\n",
        "\n",
        "logger = logging.getLogger('pandas_gbq')\n",
        "logger.propagate = False \n",
        "logging.getLogger().disabled = True\n",
        "\n",
        "q = \"\"\"\n",
        "WITH ft_dates as \n",
        "(\n",
        "SELECT\n",
        "regi_id,\n",
        "FT_start_date,\n",
        "FT_end_date,\n",
        "DATE_TRUNC(FT_start_date,WEEK(MONDAY)) as FT_start_week\n",
        "FROM `nyt-bigquery-beta-workspace.omalley_amanda.CK_FT`\n",
        "WHERE FT_start_date BETWEEN '2019-08-01' AND '2019-09-01' \n",
        "GROUP BY 1,2,3,4\n",
        "),\n",
        "\n",
        "visits as \n",
        "(\n",
        "SELECT\n",
        "a.regi_id,\n",
        "b.FT_start_date,\n",
        "b.FT_end_date,\n",
        "date(a.last_updated_dt_nyct) as days,\n",
        "max(date(a.last_updated_dt_nyct)) as LV\n",
        "FROM `nyt-bigquery-beta-workspace.omalley_amanda.CK_PAY_actives` a \n",
        "JOIN ft_dates b ON a.regi_id = CAST(b.regi_id as string)\n",
        "WHERE last_updated_dt_nyct BETWEEN '2019-08-01' AND '2019-09-29'\n",
        "GROUP BY 1,2,3,4\n",
        "),\n",
        "regi_distinction as (\n",
        "SELECT \n",
        "regi_id,\n",
        "count(distinct days) as visits,\n",
        "count(distinct case when DATE_DIFF(LV,FT_start_date,DAY) < 29 then days else null end) as DV\n",
        "--COUNT(DISTINCT CASE WHEN days <= FT_end_date THEN days else null end) as days_visited\n",
        "FROM visits\n",
        "--WHERE DATE_DIFF(LV,FT_start_date,DAY) < 30\n",
        "group by 1\n",
        "order by 3 desc \n",
        "),\n",
        "regi as \n",
        "    (\n",
        "SELECT\n",
        "a.id as regi,\n",
        "MAX(\n",
        "CASE WHEN \n",
        "LOWER(b.regi_source_name) LIKE '%cooking%' \n",
        "OR LOWER(c.regi_interface_name) LIKE '%cooking%' \n",
        "OR LOWER(d.regi_platform_name) LIKE '%cooking%'\n",
        "OR LOWER(r.client_id) LIKE '%cooking%' \n",
        "OR LOWER(r.application) LIKE '%cooking%'\n",
        "THEN \"cooking\" \n",
        "Else \"other\" END) as regi_source\n",
        "FROM `nytdata.regi.mv_regi_info` a \n",
        "    JOIN `nytdata.regi.mv_regi_source_ref` b\n",
        "    ON a.regi_source_id = b.regi_source_id\n",
        "    JOIN `nytdata.regi.mv_regi_interface_ref` c \n",
        "    ON a.regi_interface_id = c.regi_interface_id\n",
        "    JOIN `nytdata.regi.mv_regi_platform_ref` d \n",
        "    ON a.regi_platform_id = d.regi_platform_id\n",
        "FULL OUTER JOIN `nytdata.auth.regi_tracking` r ON a.id = r.regi_id\n",
        "group by 1 \n",
        ")\n",
        "SELECT \n",
        "p.regi_id,\n",
        "p.DV,\n",
        "MAX(CASE WHEN dssor.regi_source = 'cooking' then  1 ELSE 0 END) as CK,\n",
        "MAX(CASE WHEN dssor.regi_source = 'other' then 1 ELSE 0 END) AS Core\n",
        "FROM regi dssor\n",
        "JOIN regi_distinction p on  cast(dssor.regi as string) = p.regi_id\n",
        "group by 1,2\n",
        "\"\"\"\n",
        "# importing the data\n",
        "df = pd.read_gbq(q,\n",
        "    project_id = 'nyt-bigquery-beta-workspace',\n",
        "    dialect='standard')\n",
        "\n",
        "# Descriptive statistics, data type, data preview \n",
        "print(df.describe(), ' \\n \\n', '*Data Types Below* \\n \\n', df.dtypes ,' \\n \\n', df.head(n=6))"
      ],
      "execution_count": 2,
      "outputs": [
        {
          "output_type": "stream",
          "text": [
            "                  DV             CK           Core\n",
            "count  345950.000000  345950.000000  345950.000000\n",
            "mean        3.112193       0.485119       0.514881\n",
            "std         3.727931       0.499779       0.499779\n",
            "min         0.000000       0.000000       0.000000\n",
            "25%         1.000000       0.000000       0.000000\n",
            "50%         2.000000       0.000000       1.000000\n",
            "75%         3.000000       1.000000       1.000000\n",
            "max        55.000000       1.000000       1.000000  \n",
            " \n",
            " *Data Types Below* \n",
            " \n",
            " regi_id    object\n",
            "DV          int64\n",
            "CK          int64\n",
            "Core        int64\n",
            "dtype: object  \n",
            " \n",
            "     regi_id  DV  CK  Core\n",
            "0  73149445   3   0     1\n",
            "1  71949049   1   0     1\n",
            "2  72465663   1   0     1\n",
            "3  74321071   1   0     1\n",
            "4  88595017   4   0     1\n",
            "5  94394880   2   0     1\n"
          ],
          "name": "stdout"
        }
      ]
    },
    {
      "cell_type": "code",
      "metadata": {
        "id": "VGXceVBg61Y5",
        "colab_type": "code",
        "colab": {}
      },
      "source": [
        "dfcore = df[df['CK'] != 1]\n",
        "dfck = df[df['Core'] != 1 ]"
      ],
      "execution_count": 0,
      "outputs": []
    },
    {
      "cell_type": "code",
      "metadata": {
        "id": "tXHG1NlaDppj",
        "colab_type": "code",
        "colab": {
          "base_uri": "https://localhost:8080/",
          "height": 359
        },
        "outputId": "656f2cbf-050f-4b60-cf5f-27d97ddd94c8"
      },
      "source": [
        "dfck.head(n=10)"
      ],
      "execution_count": 5,
      "outputs": [
        {
          "output_type": "execute_result",
          "data": {
            "text/html": [
              "<div>\n",
              "<style scoped>\n",
              "    .dataframe tbody tr th:only-of-type {\n",
              "        vertical-align: middle;\n",
              "    }\n",
              "\n",
              "    .dataframe tbody tr th {\n",
              "        vertical-align: top;\n",
              "    }\n",
              "\n",
              "    .dataframe thead th {\n",
              "        text-align: right;\n",
              "    }\n",
              "</style>\n",
              "<table border=\"1\" class=\"dataframe\">\n",
              "  <thead>\n",
              "    <tr style=\"text-align: right;\">\n",
              "      <th></th>\n",
              "      <th>regi_id</th>\n",
              "      <th>DV</th>\n",
              "      <th>CK</th>\n",
              "      <th>Core</th>\n",
              "    </tr>\n",
              "  </thead>\n",
              "  <tbody>\n",
              "    <tr>\n",
              "      <th>178123</th>\n",
              "      <td>86258202</td>\n",
              "      <td>2</td>\n",
              "      <td>1</td>\n",
              "      <td>0</td>\n",
              "    </tr>\n",
              "    <tr>\n",
              "      <th>178124</th>\n",
              "      <td>80492412</td>\n",
              "      <td>12</td>\n",
              "      <td>1</td>\n",
              "      <td>0</td>\n",
              "    </tr>\n",
              "    <tr>\n",
              "      <th>178125</th>\n",
              "      <td>78934565</td>\n",
              "      <td>2</td>\n",
              "      <td>1</td>\n",
              "      <td>0</td>\n",
              "    </tr>\n",
              "    <tr>\n",
              "      <th>178126</th>\n",
              "      <td>71675508</td>\n",
              "      <td>4</td>\n",
              "      <td>1</td>\n",
              "      <td>0</td>\n",
              "    </tr>\n",
              "    <tr>\n",
              "      <th>178127</th>\n",
              "      <td>86362100</td>\n",
              "      <td>2</td>\n",
              "      <td>1</td>\n",
              "      <td>0</td>\n",
              "    </tr>\n",
              "    <tr>\n",
              "      <th>178128</th>\n",
              "      <td>90444157</td>\n",
              "      <td>7</td>\n",
              "      <td>1</td>\n",
              "      <td>0</td>\n",
              "    </tr>\n",
              "    <tr>\n",
              "      <th>178129</th>\n",
              "      <td>83897778</td>\n",
              "      <td>9</td>\n",
              "      <td>1</td>\n",
              "      <td>0</td>\n",
              "    </tr>\n",
              "    <tr>\n",
              "      <th>178130</th>\n",
              "      <td>86983808</td>\n",
              "      <td>1</td>\n",
              "      <td>1</td>\n",
              "      <td>0</td>\n",
              "    </tr>\n",
              "    <tr>\n",
              "      <th>178131</th>\n",
              "      <td>89337701</td>\n",
              "      <td>11</td>\n",
              "      <td>1</td>\n",
              "      <td>0</td>\n",
              "    </tr>\n",
              "    <tr>\n",
              "      <th>178132</th>\n",
              "      <td>89346644</td>\n",
              "      <td>6</td>\n",
              "      <td>1</td>\n",
              "      <td>0</td>\n",
              "    </tr>\n",
              "  </tbody>\n",
              "</table>\n",
              "</div>"
            ],
            "text/plain": [
              "         regi_id  DV  CK  Core\n",
              "178123  86258202   2   1     0\n",
              "178124  80492412  12   1     0\n",
              "178125  78934565   2   1     0\n",
              "178126  71675508   4   1     0\n",
              "178127  86362100   2   1     0\n",
              "178128  90444157   7   1     0\n",
              "178129  83897778   9   1     0\n",
              "178130  86983808   1   1     0\n",
              "178131  89337701  11   1     0\n",
              "178132  89346644   6   1     0"
            ]
          },
          "metadata": {
            "tags": []
          },
          "execution_count": 5
        }
      ]
    },
    {
      "cell_type": "code",
      "metadata": {
        "id": "9ra1IrRc5DAO",
        "colab_type": "code",
        "colab": {}
      },
      "source": [
        "%matplotlib inline\n",
        "style.use('fivethirtyeight')\n",
        "rcParams['figure.figsize'] = 12,8\n",
        "sb.distplot(dfck.DV)\n",
        "\n",
        "dfck.describe()"
      ],
      "execution_count": 0,
      "outputs": []
    },
    {
      "cell_type": "code",
      "metadata": {
        "id": "_Tlg4rIw7fsN",
        "colab_type": "code",
        "colab": {}
      },
      "source": [
        "sb.distplot(dfcore.DV)\n",
        "dfcore.describe()"
      ],
      "execution_count": 0,
      "outputs": []
    },
    {
      "cell_type": "code",
      "metadata": {
        "id": "AGzIl1d16wxV",
        "colab_type": "code",
        "colab": {}
      },
      "source": [
        "x1 = df.loc[df.cut=='Ideal', 'depth']\n",
        "x2 = df.loc[df.cut=='Fair', 'depth']\n",
        "x3 = df.loc[df.cut=='Good', 'depth']\n",
        "\n",
        "kwargs = dict(alpha=0.5, bins=100)\n",
        "\n",
        "plt.hist(x1, **kwargs, color='g', label='Ideal')\n",
        "plt.hist(x2, **kwargs, color='b', label='Fair')\n",
        "plt.hist(x3, **kwargs, color='r', label='Good')\n",
        "plt.gca().set(title='Frequency Histogram of Diamond Depths', ylabel='Frequency')\n",
        "plt.xlim(50,75)\n",
        "plt.legend();"
      ],
      "execution_count": 0,
      "outputs": []
    },
    {
      "cell_type": "code",
      "metadata": {
        "id": "zUr0AtEy8qUt",
        "colab_type": "code",
        "colab": {}
      },
      "source": [
        "sb.countplot(x=\"DV\", data=dfck)"
      ],
      "execution_count": 0,
      "outputs": []
    },
    {
      "cell_type": "code",
      "metadata": {
        "id": "ft34Rug58zph",
        "colab_type": "code",
        "colab": {}
      },
      "source": [
        "dfcore1 = dfcore[dfcore['DV'] < 29]\n",
        "dfck1 = dfck[dfck['DV'] < 29]"
      ],
      "execution_count": 0,
      "outputs": []
    },
    {
      "cell_type": "markdown",
      "metadata": {
        "id": "bw9D_eTl951W",
        "colab_type": "text"
      },
      "source": [
        "\n",
        "\n",
        "# Core Regi Free Trial Data\n",
        "\n",
        "-- Average days visited is 3.05\n",
        "\n"
      ]
    },
    {
      "cell_type": "markdown",
      "metadata": {
        "id": "L7GtE0it-Y-f",
        "colab_type": "text"
      },
      "source": [
        "DV: stands for Days visited. \n",
        "Core sourced FTs: 177,817"
      ]
    },
    {
      "cell_type": "code",
      "metadata": {
        "id": "0zVnF1E59P1H",
        "colab_type": "code",
        "colab": {
          "base_uri": "https://localhost:8080/",
          "height": 817
        },
        "outputId": "a4e0e411-0977-46e9-aca8-2387637d3a63"
      },
      "source": [
        "%matplotlib inline\n",
        "style.use('fivethirtyeight')\n",
        "rcParams['figure.figsize'] = 12,8\n",
        "sb.countplot(x=\"DV\", data=dfcore1)\n",
        "dfcore1.describe()\n"
      ],
      "execution_count": 11,
      "outputs": [
        {
          "output_type": "execute_result",
          "data": {
            "text/html": [
              "<div>\n",
              "<style scoped>\n",
              "    .dataframe tbody tr th:only-of-type {\n",
              "        vertical-align: middle;\n",
              "    }\n",
              "\n",
              "    .dataframe tbody tr th {\n",
              "        vertical-align: top;\n",
              "    }\n",
              "\n",
              "    .dataframe thead th {\n",
              "        text-align: right;\n",
              "    }\n",
              "</style>\n",
              "<table border=\"1\" class=\"dataframe\">\n",
              "  <thead>\n",
              "    <tr style=\"text-align: right;\">\n",
              "      <th></th>\n",
              "      <th>DV</th>\n",
              "      <th>CK</th>\n",
              "      <th>Core</th>\n",
              "    </tr>\n",
              "  </thead>\n",
              "  <tbody>\n",
              "    <tr>\n",
              "      <th>count</th>\n",
              "      <td>177817.000000</td>\n",
              "      <td>177817.0</td>\n",
              "      <td>177817.0</td>\n",
              "    </tr>\n",
              "    <tr>\n",
              "      <th>mean</th>\n",
              "      <td>3.048780</td>\n",
              "      <td>0.0</td>\n",
              "      <td>1.0</td>\n",
              "    </tr>\n",
              "    <tr>\n",
              "      <th>std</th>\n",
              "      <td>3.591175</td>\n",
              "      <td>0.0</td>\n",
              "      <td>0.0</td>\n",
              "    </tr>\n",
              "    <tr>\n",
              "      <th>min</th>\n",
              "      <td>0.000000</td>\n",
              "      <td>0.0</td>\n",
              "      <td>1.0</td>\n",
              "    </tr>\n",
              "    <tr>\n",
              "      <th>25%</th>\n",
              "      <td>1.000000</td>\n",
              "      <td>0.0</td>\n",
              "      <td>1.0</td>\n",
              "    </tr>\n",
              "    <tr>\n",
              "      <th>50%</th>\n",
              "      <td>2.000000</td>\n",
              "      <td>0.0</td>\n",
              "      <td>1.0</td>\n",
              "    </tr>\n",
              "    <tr>\n",
              "      <th>75%</th>\n",
              "      <td>3.000000</td>\n",
              "      <td>0.0</td>\n",
              "      <td>1.0</td>\n",
              "    </tr>\n",
              "    <tr>\n",
              "      <th>max</th>\n",
              "      <td>28.000000</td>\n",
              "      <td>0.0</td>\n",
              "      <td>1.0</td>\n",
              "    </tr>\n",
              "  </tbody>\n",
              "</table>\n",
              "</div>"
            ],
            "text/plain": [
              "                  DV        CK      Core\n",
              "count  177817.000000  177817.0  177817.0\n",
              "mean        3.048780       0.0       1.0\n",
              "std         3.591175       0.0       0.0\n",
              "min         0.000000       0.0       1.0\n",
              "25%         1.000000       0.0       1.0\n",
              "50%         2.000000       0.0       1.0\n",
              "75%         3.000000       0.0       1.0\n",
              "max        28.000000       0.0       1.0"
            ]
          },
          "metadata": {
            "tags": []
          },
          "execution_count": 11
        },
        {
          "output_type": "display_data",
          "data": {
            "image/png": "[encoded data removed]",
            "text/plain": [
              "<Figure size 864x576 with 1 Axes>"
            ]
          },
          "metadata": {
            "tags": []
          }
        }
      ]
    },
    {
      "cell_type": "markdown",
      "metadata": {
        "id": "2TtjwN_S-De_",
        "colab_type": "text"
      },
      "source": [
        "# Cooking Regi Free Trial Data \n",
        "\n",
        "Cooking sourced FTs: 167,666\n",
        "\n",
        "-- Average days visited is 3.09\n",
        "-- Less One and Dones than Core!\n"
      ]
    },
    {
      "cell_type": "code",
      "metadata": {
        "id": "66ecF7To9UMI",
        "colab_type": "code",
        "colab": {
          "base_uri": "https://localhost:8080/",
          "height": 817
        },
        "outputId": "9f51293e-926f-487b-a75d-4efc2a1ebe1d"
      },
      "source": [
        "sb.countplot(x=\"DV\", data=dfck1)\n",
        "dfck1.describe()"
      ],
      "execution_count": 12,
      "outputs": [
        {
          "output_type": "execute_result",
          "data": {
            "text/html": [
              "<div>\n",
              "<style scoped>\n",
              "    .dataframe tbody tr th:only-of-type {\n",
              "        vertical-align: middle;\n",
              "    }\n",
              "\n",
              "    .dataframe tbody tr th {\n",
              "        vertical-align: top;\n",
              "    }\n",
              "\n",
              "    .dataframe thead th {\n",
              "        text-align: right;\n",
              "    }\n",
              "</style>\n",
              "<table border=\"1\" class=\"dataframe\">\n",
              "  <thead>\n",
              "    <tr style=\"text-align: right;\">\n",
              "      <th></th>\n",
              "      <th>DV</th>\n",
              "      <th>CK</th>\n",
              "      <th>Core</th>\n",
              "    </tr>\n",
              "  </thead>\n",
              "  <tbody>\n",
              "    <tr>\n",
              "      <th>count</th>\n",
              "      <td>167666.000000</td>\n",
              "      <td>167666.0</td>\n",
              "      <td>167666.0</td>\n",
              "    </tr>\n",
              "    <tr>\n",
              "      <th>mean</th>\n",
              "      <td>3.094193</td>\n",
              "      <td>1.0</td>\n",
              "      <td>0.0</td>\n",
              "    </tr>\n",
              "    <tr>\n",
              "      <th>std</th>\n",
              "      <td>3.508462</td>\n",
              "      <td>0.0</td>\n",
              "      <td>0.0</td>\n",
              "    </tr>\n",
              "    <tr>\n",
              "      <th>min</th>\n",
              "      <td>0.000000</td>\n",
              "      <td>1.0</td>\n",
              "      <td>0.0</td>\n",
              "    </tr>\n",
              "    <tr>\n",
              "      <th>25%</th>\n",
              "      <td>1.000000</td>\n",
              "      <td>1.0</td>\n",
              "      <td>0.0</td>\n",
              "    </tr>\n",
              "    <tr>\n",
              "      <th>50%</th>\n",
              "      <td>2.000000</td>\n",
              "      <td>1.0</td>\n",
              "      <td>0.0</td>\n",
              "    </tr>\n",
              "    <tr>\n",
              "      <th>75%</th>\n",
              "      <td>4.000000</td>\n",
              "      <td>1.0</td>\n",
              "      <td>0.0</td>\n",
              "    </tr>\n",
              "    <tr>\n",
              "      <th>max</th>\n",
              "      <td>28.000000</td>\n",
              "      <td>1.0</td>\n",
              "      <td>0.0</td>\n",
              "    </tr>\n",
              "  </tbody>\n",
              "</table>\n",
              "</div>"
            ],
            "text/plain": [
              "                  DV        CK      Core\n",
              "count  167666.000000  167666.0  167666.0\n",
              "mean        3.094193       1.0       0.0\n",
              "std         3.508462       0.0       0.0\n",
              "min         0.000000       1.0       0.0\n",
              "25%         1.000000       1.0       0.0\n",
              "50%         2.000000       1.0       0.0\n",
              "75%         4.000000       1.0       0.0\n",
              "max        28.000000       1.0       0.0"
            ]
          },
          "metadata": {
            "tags": []
          },
          "execution_count": 12
        },
        {
          "output_type": "display_data",
          "data": {
            "image/png": "[encoded data removed]",
            "text/plain": [
              "<Figure size 864x576 with 1 Axes>"
            ]
          },
          "metadata": {
            "tags": []
          }
        }
      ]
    }
  ]
}
